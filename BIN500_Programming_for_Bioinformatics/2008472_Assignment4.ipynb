{
 "cells": [
  {
   "cell_type": "markdown",
   "metadata": {},
   "source": [
    "# ASSIGNMENT 4"
   ]
  },
  {
   "cell_type": "markdown",
   "metadata": {},
   "source": [
    "## Nisan Ece Kalem, 2008472"
   ]
  },
  {
   "cell_type": "code",
   "execution_count": 19,
   "metadata": {},
   "outputs": [],
   "source": [
    "import pandas as pd \n",
    "import statistics as st\n",
    "import re"
   ]
  },
  {
   "cell_type": "markdown",
   "metadata": {},
   "source": [
    "Since I am more comfortable with manipulating data in data frame format, I used pandas package and implement the questions accordingly"
   ]
  },
  {
   "cell_type": "code",
   "execution_count": 20,
   "metadata": {},
   "outputs": [],
   "source": [
    "data = pd.read_csv(\"data.txt\", sep = \"\\t\")"
   ]
  },
  {
   "cell_type": "markdown",
   "metadata": {},
   "source": [
    "### a. "
   ]
  },
  {
   "cell_type": "markdown",
   "metadata": {},
   "source": [
    "#### Longest protein in the dataset"
   ]
  },
  {
   "cell_type": "code",
   "execution_count": 21,
   "metadata": {},
   "outputs": [
    {
     "data": {
      "text/html": [
       "<div>\n",
       "<style scoped>\n",
       "    .dataframe tbody tr th:only-of-type {\n",
       "        vertical-align: middle;\n",
       "    }\n",
       "\n",
       "    .dataframe tbody tr th {\n",
       "        vertical-align: top;\n",
       "    }\n",
       "\n",
       "    .dataframe thead th {\n",
       "        text-align: right;\n",
       "    }\n",
       "</style>\n",
       "<table border=\"1\" class=\"dataframe\">\n",
       "  <thead>\n",
       "    <tr style=\"text-align: right;\">\n",
       "      <th></th>\n",
       "      <th>Gene names</th>\n",
       "      <th>Length</th>\n",
       "    </tr>\n",
       "  </thead>\n",
       "  <tbody>\n",
       "    <tr>\n",
       "      <th>1732</th>\n",
       "      <td>TTN</td>\n",
       "      <td>34350</td>\n",
       "    </tr>\n",
       "  </tbody>\n",
       "</table>\n",
       "</div>"
      ],
      "text/plain": [
       "     Gene names  Length\n",
       "1732        TTN   34350"
      ]
     },
     "execution_count": 21,
     "metadata": {},
     "output_type": "execute_result"
    }
   ],
   "source": [
    "protLengthNames = data[[\"Gene names\", \"Length\"]] ## Subset of 'data' to only include  gene names and length\n",
    "protLengthNames.loc[protLengthNames['Length'] == max(protLengthNames['Length'])]  ## location of protein with maximum length"
   ]
  },
  {
   "cell_type": "markdown",
   "metadata": {},
   "source": [
    "#### Average length of all proteins"
   ]
  },
  {
   "cell_type": "code",
   "execution_count": 22,
   "metadata": {},
   "outputs": [
    {
     "data": {
      "text/plain": [
       "562.516"
      ]
     },
     "execution_count": 22,
     "metadata": {},
     "output_type": "execute_result"
    }
   ],
   "source": [
    "st.mean(protLengthNames[\"Length\"]) ## average length of the proteins"
   ]
  },
  {
   "cell_type": "markdown",
   "metadata": {},
   "source": [
    "### b."
   ]
  },
  {
   "cell_type": "markdown",
   "metadata": {},
   "source": [
    "#### How many proteins contain the sequence “PRSTQ”? Print their entry names and the position of the given sequence."
   ]
  },
  {
   "cell_type": "code",
   "execution_count": 23,
   "metadata": {},
   "outputs": [],
   "source": [
    "protSeq = data[[\"Entry\",\"Gene names\", \"Sequence\"]]\n"
   ]
  },
  {
   "cell_type": "code",
   "execution_count": 24,
   "metadata": {},
   "outputs": [
    {
     "name": "stdout",
     "output_type": "stream",
     "text": [
      "0\n"
     ]
    }
   ],
   "source": [
    "def searchSequence(seq, dat):\n",
    "    pattern = re.compile(seq)\n",
    "    results = [re.search(pattern, x) for x in dat[\"Sequence\"].get_values()]\n",
    "    dfSeq = pd.DataFrame({\"pattern\": results})\n",
    "    matches = dat[dfSeq[\"pattern\"].notna()] ## eliminating the non-hit results\n",
    "    return(matches)\n",
    "prstq_matches = searchSequence(\"PRSTQ\", protSeq)\n",
    "print(len(prstq_matches))"
   ]
  },
  {
   "cell_type": "markdown",
   "metadata": {},
   "source": [
    "There are no proteins that include the pattern \"PRSTQ\" in their sequence in this dataset. As a proof of concept, i tried my function with a pattern that does exist in the dataset, \"PSTQ\":"
   ]
  },
  {
   "cell_type": "code",
   "execution_count": 25,
   "metadata": {},
   "outputs": [
    {
     "data": {
      "text/html": [
       "<div>\n",
       "<style scoped>\n",
       "    .dataframe tbody tr th:only-of-type {\n",
       "        vertical-align: middle;\n",
       "    }\n",
       "\n",
       "    .dataframe tbody tr th {\n",
       "        vertical-align: top;\n",
       "    }\n",
       "\n",
       "    .dataframe thead th {\n",
       "        text-align: right;\n",
       "    }\n",
       "</style>\n",
       "<table border=\"1\" class=\"dataframe\">\n",
       "  <thead>\n",
       "    <tr style=\"text-align: right;\">\n",
       "      <th></th>\n",
       "      <th>Entry</th>\n",
       "      <th>Gene names</th>\n",
       "      <th>Sequence</th>\n",
       "    </tr>\n",
       "  </thead>\n",
       "  <tbody>\n",
       "    <tr>\n",
       "      <th>260</th>\n",
       "      <td>O00555</td>\n",
       "      <td>CACNA1A CACH4 CACN3 CACNL1A4</td>\n",
       "      <td>MARFGDEMPARYGGGGSGAAAGVVVGSGGGRGAGGSRQGGQPGAQR...</td>\n",
       "    </tr>\n",
       "    <tr>\n",
       "      <th>304</th>\n",
       "      <td>Q9P243</td>\n",
       "      <td>ZFAT KIAA1485 ZFAT1 ZNF406</td>\n",
       "      <td>METRAAENTAIFMCKCCNLFSPNQSELLSHVSEKHMEEGVNVDEII...</td>\n",
       "    </tr>\n",
       "    <tr>\n",
       "      <th>686</th>\n",
       "      <td>A0A1B0GUV7</td>\n",
       "      <td>TEX48</td>\n",
       "      <td>MAAHQNLILKIFCLCCRDCQEPYAINDSKVPSQTQEHKPSTQNLLL...</td>\n",
       "    </tr>\n",
       "    <tr>\n",
       "      <th>852</th>\n",
       "      <td>Q9H3R1</td>\n",
       "      <td>NDST4 HSST4</td>\n",
       "      <td>MNLIVKLRRSFRTLIVLLATFCLVSIVISAYFLYSGYKQEMTLIET...</td>\n",
       "    </tr>\n",
       "    <tr>\n",
       "      <th>1070</th>\n",
       "      <td>Q9H3S1</td>\n",
       "      <td>SEMA4A SEMAB SEMB UNQ783/PRO1317</td>\n",
       "      <td>MALPALGLDPWSLLGLFLFQLLQLLLPTTTAGGGGQGPMPRVRYYA...</td>\n",
       "    </tr>\n",
       "    <tr>\n",
       "      <th>1333</th>\n",
       "      <td>O60264</td>\n",
       "      <td>SMARCA5 SNF2H WCRF135</td>\n",
       "      <td>MSSAAEPPPPPPPESAPSKPAASIASGGSNSSNKGGPEGVAAQAVA...</td>\n",
       "    </tr>\n",
       "    <tr>\n",
       "      <th>1351</th>\n",
       "      <td>Q12815</td>\n",
       "      <td>TROAP</td>\n",
       "      <td>MTTRQATKDPLLRGVSPTPSKIPVRSQKRTPFPTVTSCAVDQENQD...</td>\n",
       "    </tr>\n",
       "    <tr>\n",
       "      <th>1421</th>\n",
       "      <td>Q53GL7</td>\n",
       "      <td>PARP10</td>\n",
       "      <td>MVAMAEAEAGVAVEVRGLPPAVPDELLTLYFENRRRSGGGPVLSWQ...</td>\n",
       "    </tr>\n",
       "    <tr>\n",
       "      <th>1589</th>\n",
       "      <td>Q9H5Y7</td>\n",
       "      <td>SLITRK6</td>\n",
       "      <td>MKLWIHLFYSSLLACISLHSQTPVLSSRGSCDSLCNCEEKDGTMLI...</td>\n",
       "    </tr>\n",
       "    <tr>\n",
       "      <th>1657</th>\n",
       "      <td>O95487</td>\n",
       "      <td>SEC24B</td>\n",
       "      <td>MSAPAGSSHPAASARIPPKFGGAAVSGAAAPAGPGAGPAPHQQNGP...</td>\n",
       "    </tr>\n",
       "    <tr>\n",
       "      <th>1879</th>\n",
       "      <td>O43251</td>\n",
       "      <td>RBFOX2 FOX2 HRNBP2 RBM9 RTA</td>\n",
       "      <td>MQNEPLTPGYHGFPARDSQGNQEPTTTPDAMVQPFTTIPFPPPPQN...</td>\n",
       "    </tr>\n",
       "    <tr>\n",
       "      <th>1983</th>\n",
       "      <td>Q3LI83</td>\n",
       "      <td>KRTAP24-1 KAP24.1</td>\n",
       "      <td>MPAGSMSTTGYPGVCSTTSYRTHCYIPVTSSVTLSSSDLSPTFGHC...</td>\n",
       "    </tr>\n",
       "  </tbody>\n",
       "</table>\n",
       "</div>"
      ],
      "text/plain": [
       "           Entry                        Gene names  \\\n",
       "260       O00555      CACNA1A CACH4 CACN3 CACNL1A4   \n",
       "304       Q9P243        ZFAT KIAA1485 ZFAT1 ZNF406   \n",
       "686   A0A1B0GUV7                             TEX48   \n",
       "852       Q9H3R1                       NDST4 HSST4   \n",
       "1070      Q9H3S1  SEMA4A SEMAB SEMB UNQ783/PRO1317   \n",
       "1333      O60264             SMARCA5 SNF2H WCRF135   \n",
       "1351      Q12815                             TROAP   \n",
       "1421      Q53GL7                            PARP10   \n",
       "1589      Q9H5Y7                           SLITRK6   \n",
       "1657      O95487                            SEC24B   \n",
       "1879      O43251       RBFOX2 FOX2 HRNBP2 RBM9 RTA   \n",
       "1983      Q3LI83                 KRTAP24-1 KAP24.1   \n",
       "\n",
       "                                               Sequence  \n",
       "260   MARFGDEMPARYGGGGSGAAAGVVVGSGGGRGAGGSRQGGQPGAQR...  \n",
       "304   METRAAENTAIFMCKCCNLFSPNQSELLSHVSEKHMEEGVNVDEII...  \n",
       "686   MAAHQNLILKIFCLCCRDCQEPYAINDSKVPSQTQEHKPSTQNLLL...  \n",
       "852   MNLIVKLRRSFRTLIVLLATFCLVSIVISAYFLYSGYKQEMTLIET...  \n",
       "1070  MALPALGLDPWSLLGLFLFQLLQLLLPTTTAGGGGQGPMPRVRYYA...  \n",
       "1333  MSSAAEPPPPPPPESAPSKPAASIASGGSNSSNKGGPEGVAAQAVA...  \n",
       "1351  MTTRQATKDPLLRGVSPTPSKIPVRSQKRTPFPTVTSCAVDQENQD...  \n",
       "1421  MVAMAEAEAGVAVEVRGLPPAVPDELLTLYFENRRRSGGGPVLSWQ...  \n",
       "1589  MKLWIHLFYSSLLACISLHSQTPVLSSRGSCDSLCNCEEKDGTMLI...  \n",
       "1657  MSAPAGSSHPAASARIPPKFGGAAVSGAAAPAGPGAGPAPHQQNGP...  \n",
       "1879  MQNEPLTPGYHGFPARDSQGNQEPTTTPDAMVQPFTTIPFPPPPQN...  \n",
       "1983  MPAGSMSTTGYPGVCSTTSYRTHCYIPVTSSVTLSSSDLSPTFGHC...  "
      ]
     },
     "execution_count": 25,
     "metadata": {},
     "output_type": "execute_result"
    }
   ],
   "source": [
    "pstq_matches = searchSequence(\"PSTQ\", protSeq)\n",
    "pstq_matches"
   ]
  },
  {
   "cell_type": "code",
   "execution_count": 26,
   "metadata": {},
   "outputs": [
    {
     "name": "stdout",
     "output_type": "stream",
     "text": [
      "There are 12 entries in this datasets that include the pattern 'PSTQ' in their sequence\n"
     ]
    }
   ],
   "source": [
    "print(\"There are %d entries in this datasets that include the pattern 'PSTQ' in their sequence\" % len(pstq_matches))"
   ]
  },
  {
   "cell_type": "markdown",
   "metadata": {},
   "source": [
    "### c.\n",
    "\n",
    "#### What is the percentage of proteins having at least one 3D structure?"
   ]
  },
  {
   "cell_type": "code",
   "execution_count": 27,
   "metadata": {},
   "outputs": [],
   "source": [
    "present3D = data[\"3D\"].notna() ##Boolean array for selecting non-missing values for \"3D\" column\n",
    "with3Dstr = data[present3D]"
   ]
  },
  {
   "cell_type": "code",
   "execution_count": 28,
   "metadata": {},
   "outputs": [
    {
     "name": "stdout",
     "output_type": "stream",
     "text": [
      "Percentage of the proteins having at least one 3D structure is 31.55\n"
     ]
    }
   ],
   "source": [
    "percentageOf3D = (len(with3Dstr)/len(data))*100\n",
    "print('Percentage of the proteins having at least one 3D structure is %.2f' % percentageOf3D)"
   ]
  },
  {
   "cell_type": "markdown",
   "metadata": {},
   "source": [
    "#### Ratio of (total x-ray structures) / (total NMR structures)"
   ]
  },
  {
   "cell_type": "code",
   "execution_count": 29,
   "metadata": {},
   "outputs": [],
   "source": [
    "xrayRegEx = r\"(X-ray crystallography)\\s+\\((\\d+)\\)\" ## regex pattern with grouping to capture only the number later on\n",
    "noXrays = [re.findall(xrayRegEx, x) for x in with3Dstr[\"3D\"]]\n",
    "noXray = filter(None, noXrays) ## Eliminating empty, non-hit results\n",
    "qtXray = [int(x[0][1]) for x in noXray] # Capturing the group with number\n",
    "sumofXray =sum(qtXray)"
   ]
  },
  {
   "cell_type": "code",
   "execution_count": 30,
   "metadata": {},
   "outputs": [],
   "source": [
    "nmrRegEx = r\"(NMR spectroscopy)\\s+\\((\\d+)\\)\" ## regex pattern with grouping to capture only the number later on\n",
    "noNMRs = [re.findall(nmrRegEx, x) for x in with3Dstr[\"3D\"]]\n",
    "noNMR = filter(None, noNMRs) ## Eliminating empty, non-hit results\n",
    "qtNMR = [int(x[0][1]) for x in noNMR] # Capturing the group with number \n",
    "sumofNMR =sum(qtNMR)"
   ]
  },
  {
   "cell_type": "code",
   "execution_count": 31,
   "metadata": {},
   "outputs": [
    {
     "name": "stdout",
     "output_type": "stream",
     "text": [
      "The ratio of X-ray crystallographies to NMR spectroscopy is 10.57\n"
     ]
    }
   ],
   "source": [
    "ratio = sumofXray / sumofNMR\n",
    "print('The ratio of X-ray crystallographies to NMR spectroscopy is %.2f' % ratio)"
   ]
  },
  {
   "cell_type": "markdown",
   "metadata": {},
   "source": [
    "#### Unique set of methods for 3D structure"
   ]
  },
  {
   "cell_type": "code",
   "execution_count": 32,
   "metadata": {},
   "outputs": [
    {
     "name": "stdout",
     "output_type": "stream",
     "text": [
      "{'NMR spectroscopy', 'X-ray crystallography', 'Electron microscopy', 'Model'}\n"
     ]
    }
   ],
   "source": [
    "pattern = r\"(.+)\\s+\\((\\d+)\\)\"\n",
    "uniqueMethods = []\n",
    "for struc in with3Dstr[\"3D\"]:\n",
    "    tmp = [re.findall(pattern, x) for x in struc.split(\";\")] ## splitting different methods that may exist for a single entry\n",
    "    uniqueMethods.append(tmp)\n",
    "uniqueMethods = filter(None, uniqueMethods) ## Eliminating empty results\n",
    "uniqueMethods = set([x[0][0][0] for x in uniqueMethods])\n",
    "print(uniqueMethods)"
   ]
  },
  {
   "cell_type": "markdown",
   "metadata": {},
   "source": [
    "### d\n",
    "#### Average (mass/length) ratio for all proteins"
   ]
  },
  {
   "cell_type": "code",
   "execution_count": 33,
   "metadata": {},
   "outputs": [],
   "source": [
    "massData = [int(re.sub(\",\", \"\", x)) for x in data[\"Mass\"]]  ## fix formating for 'Mass' column, removing ',' characters used for thousand separators\n",
    "massData = pd.DataFrame({\"mass\": massData})\n",
    "\n",
    "ratioData = massData['mass'] / data[\"Length\"]"
   ]
  },
  {
   "cell_type": "code",
   "execution_count": 34,
   "metadata": {},
   "outputs": [
    {
     "data": {
      "text/plain": [
       "111.59928958964974"
      ]
     },
     "execution_count": 34,
     "metadata": {},
     "output_type": "execute_result"
    }
   ],
   "source": [
    "st.mean(ratioData)"
   ]
  }
 ],
 "metadata": {
  "kernelspec": {
   "display_name": "Python 3",
   "language": "python",
   "name": "python3"
  },
  "language_info": {
   "codemirror_mode": {
    "name": "ipython",
    "version": 3
   },
   "file_extension": ".py",
   "mimetype": "text/x-python",
   "name": "python",
   "nbconvert_exporter": "python",
   "pygments_lexer": "ipython3",
   "version": "3.7.0"
  }
 },
 "nbformat": 4,
 "nbformat_minor": 2
}
