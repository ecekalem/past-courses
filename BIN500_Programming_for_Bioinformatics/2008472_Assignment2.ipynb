{
 "cells": [
  {
   "cell_type": "markdown",
   "metadata": {},
   "source": [
    "# BIN500 Assignment 2"
   ]
  },
  {
   "cell_type": "markdown",
   "metadata": {},
   "source": [
    "## Nisan Ece Kalem, 2008472"
   ]
  },
  {
   "cell_type": "markdown",
   "metadata": {},
   "source": [
    "### 1 -"
   ]
  },
  {
   "cell_type": "code",
   "execution_count": 7,
   "metadata": {},
   "outputs": [
    {
     "name": "stdout",
     "output_type": "stream",
     "text": [
      "['nayc', 10, 'eulb', 'elprup', 160, 250]\n"
     ]
    }
   ],
   "source": [
    "my_list = ['cyan', 10, 'blue', 'purple', 40, 50]\n",
    "\n",
    "for i, j in enumerate(my_list):\n",
    "    if type(j) == str:\n",
    "        my_list[i] = ''.join(reversed(j)) #reverse the string if it is a string\n",
    "    elif type(j) == int:\n",
    "        my_list[i] = j*i #multiply it with its index if it is an integer        \n",
    "print(my_list)\n",
    "        "
   ]
  },
  {
   "cell_type": "markdown",
   "metadata": {},
   "source": [
    "### 2 - "
   ]
  },
  {
   "cell_type": "code",
   "execution_count": 3,
   "metadata": {},
   "outputs": [
    {
     "data": {
      "text/plain": [
       "2"
      ]
     },
     "execution_count": 3,
     "metadata": {},
     "output_type": "execute_result"
    }
   ],
   "source": [
    "def digital_root_finder(number):\n",
    "    '''Asks user a number and turns it into a string since it is easier to access the digits \n",
    "    of a number via slicing the string'''\n",
    "    number = str(number)\n",
    "    '''Executes the function as long as integer number is bigger than or equal to 10'''\n",
    "    while int(number) >= 10:\n",
    "        '''Again turns number into a string for slicing purposes'''\n",
    "        number = str(number)\n",
    "        '''Makes a list out of the digits of number via list comprehension, \n",
    "        and turns digits into a string'''\n",
    "        num_list = [int(x) for x in number]\n",
    "        '''Sums the elements of the the list and rewrites them in number'''\n",
    "        number = sum(num_list)    \n",
    "    return number\n",
    "    \n",
    "digital_root_finder(45893)"
   ]
  },
  {
   "cell_type": "markdown",
   "metadata": {},
   "source": [
    "### 3 -"
   ]
  },
  {
   "cell_type": "code",
   "execution_count": 16,
   "metadata": {},
   "outputs": [
    {
     "name": "stdout",
     "output_type": "stream",
     "text": [
      "(1460, 6, 'a')\n"
     ]
    }
   ],
   "source": [
    "seq = 'ttcaaagcttcctatgaatggactgtccccaaagaagtaggacccactaatgcagatcctgtggaattctgtctagctaagatgtattattctgctgtggatcccactaaagatatattcactgggcttattgggccaaggatcctgaaaatatgcaagaaaggaagtttacatgcaaatgggagacagaaagatgtagacaaggaattctatttaagcttgtttcctacagtatttgatgagaatgagaaagcttgtttactcctggaagataatattagaatgtttacaactgcacctgatcaggtggataaggaagatgaagactttcaggaatctaataaaatgcactccatgaatggattcatgtatgggaatcagccgggtctgaattccactatgtgcaaaggagattcggtcgtgtggtacttattcagcgccggaaatgaggccgatgtacatggaatatacttttcaggaaacacatatctgtggagaggagaacggagagacacagcaaacctcttccctcaaacaagtcttacgctccacatgtggcctgacacagaggggacttttaatgggatccttgaatgccttacaactgatcattacacaggcggcatgaagcaaaaatatactgtgaaccaatgcaggcgaagcttgcggatccagtctgaggattccaccttctacctgggagagaggacatactatatcgcagcagtggaggtggaatgggattattccccacaaagggagtgggaaaaggagctgcagaattctcatttacaagagcagaatgtttcaaatgcatttttagataagggagagttttacataggctcaaagtacaagaaagttgtgtatcggcagtatactgatagcacattccgtgttccagtggagagaaaagctgaagaagaacatctgggaattctaggtccacaacttcataagcttgcagatgttggagacaaagtcaaaattatctttaaaaacatggccacaaggccctactcaatacatgcccggatccatggggtacaaacagagagttctacagttactccaacattaccaggtgaaactctcacttacgtatggaaaatcccagaaagatctggagctggaacagaggattctgcttgtattccatgggcttattattcaactgtggaattcgatcaagttaaggacctctacagtggattaattggccccctgattgtttgtcgaagaccttacttgaaagtattcaatcccagaaggaaggaattcctggaatttgcccttctgtttctagtttttgatgagaatgaatcttggtacaagcttttagatgacaacatcaaaacatactctgatcaccccgagaaagtaaacaaagatgatgaggaattcatagaaagcaataaaatgcatgctattaatggaagaatgtttggaaacctaagcttaaaaaatggggccccttttgatcgatcgaagctgaagaagaacaacaacaga'\n",
    "\n",
    "def dna_seq_nucleotide_repeat_finder(seq): #definition of function\n",
    "    \n",
    "\n",
    "\n",
    "    prev_nt = seq[0]\n",
    "    tmp_repeat = \"\"\n",
    "    tmp_repeats = [[0],[0]] \n",
    "\n",
    "    for nt in seq:\n",
    "        if nt != prev_nt: #if nucleotide has changed\n",
    "            if len(tmp_repeat) > 1: #if an actual repeat\n",
    "                if len(tmp_repeat) > tmp_repeats[-1][0]: #if the repeat is longer than previously found repeats\n",
    "                    tmp_repeats.append([len(tmp_repeat),tmp_repeat]) #save the repeat\n",
    "            tmp_repeat = nt\n",
    "            prev_nt = nt\n",
    "        else: #still in a repeat\n",
    "            tmp_repeat += nt #extend the repeat\n",
    "            prev_nt = nt #advance the nucleotide tracker\n",
    "    \n",
    "    idx_rep = seq.find(tmp_repeats[-1][1]) # find the index of longest repeat\n",
    "    len_rep = tmp_repeats[-1][0] # find the length of longest repeat\n",
    "    nt = tmp_repeats[-1][1][0] # find which nucleotide\n",
    "    return (idx_rep, len_rep, nt) # returns the index, length and nucleotide\n",
    "\n",
    "print(dna_seq_nucleotide_repeat_finder(seq)) #result is also confirmed with ctrl + f"
   ]
  },
  {
   "cell_type": "code",
   "execution_count": null,
   "metadata": {},
   "outputs": [],
   "source": []
  }
 ],
 "metadata": {
  "kernelspec": {
   "display_name": "Python 3",
   "language": "python",
   "name": "python3"
  },
  "language_info": {
   "codemirror_mode": {
    "name": "ipython",
    "version": 3
   },
   "file_extension": ".py",
   "mimetype": "text/x-python",
   "name": "python",
   "nbconvert_exporter": "python",
   "pygments_lexer": "ipython3",
   "version": "3.7.0"
  }
 },
 "nbformat": 4,
 "nbformat_minor": 2
}
